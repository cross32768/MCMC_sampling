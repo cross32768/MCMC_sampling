{
 "cells": [
  {
   "cell_type": "code",
   "execution_count": 288,
   "metadata": {},
   "outputs": [],
   "source": [
    "import numpy as np\n",
    "import matplotlib.pyplot as plt\n",
    "import itertools\n",
    "import time\n",
    "from dwave_sapi2.remote import RemoteConnection\n",
    "from dwave_sapi2.core import solve_ising\n",
    "from dwave_sapi2.util import qubo_to_ising, get_hardware_adjacency\n",
    "from dwave_sapi2.embedding import find_embedding, embed_problem, unembed_answer\n",
    "\n",
    "url = 'https://cloud.dwavesys.com/sapi/'"
   ]
  },
  {
   "cell_type": "code",
   "execution_count": 289,
   "metadata": {},
   "outputs": [],
   "source": [
    "with open('config.txt', 'r') as f:\n",
    "    token = f.read()"
   ]
  },
  {
   "cell_type": "code",
   "execution_count": 290,
   "metadata": {},
   "outputs": [],
   "source": [
    "N = 6 # スピン数"
   ]
  },
  {
   "cell_type": "code",
   "execution_count": 291,
   "metadata": {},
   "outputs": [],
   "source": [
    "# スピンをランダムに初期化({-1,1}で)\n",
    "def init_spin():\n",
    "    return np.random.randint(0,2,N)*2 - 1"
   ]
  },
  {
   "cell_type": "code",
   "execution_count": 292,
   "metadata": {},
   "outputs": [],
   "source": [
    "# イジング模型の相互作用J（上三角行列（対角成分は含まない））\n",
    "def coeff_J():\n",
    "    J = np.zeros((N,N))\n",
    "    for i in range(N):\n",
    "        for j in range(i+1,N):\n",
    "            J[i][j] = 1\n",
    "    return J\n",
    "coeffJ = coeff_J()"
   ]
  },
  {
   "cell_type": "code",
   "execution_count": 293,
   "metadata": {},
   "outputs": [],
   "source": [
    "# イジング模型の変数同士のリンク情報の獲得\n",
    "def link_J():\n",
    "    link = [[] for _ in range(N)]\n",
    "    for i in range(N):\n",
    "        for j in range(i+1, N):\n",
    "            if coeffJ[i][j] != 0:\n",
    "                link[i].append(j)\n",
    "                link[j].append(i)\n",
    "    return link\n",
    "link = link_J()"
   ]
  },
  {
   "cell_type": "code",
   "execution_count": 294,
   "metadata": {},
   "outputs": [],
   "source": [
    "# イジング模型の係数h\n",
    "def coeff_h():\n",
    "    h = np.zeros(N)\n",
    "    return h\n",
    "coeffh = coeff_h()"
   ]
  },
  {
   "cell_type": "code",
   "execution_count": 295,
   "metadata": {},
   "outputs": [],
   "source": [
    "# エネルギー関数\n",
    "def energy(spin):\n",
    "    return -(np.dot(spin, np.dot(coeffJ, spin)) + np.dot(coeffh, spin))"
   ]
  },
  {
   "cell_type": "code",
   "execution_count": 296,
   "metadata": {},
   "outputs": [],
   "source": [
    "# 取りうる状態の数え上げ（組み合わせ爆発に注意）\n",
    "comb_all = list(itertools.product([-1,1], repeat=N))\n",
    "comb_all_to_index = {}\n",
    "for i, c in enumerate(comb_all):\n",
    "    comb_all_to_index[tuple(c)] = i"
   ]
  },
  {
   "cell_type": "code",
   "execution_count": 297,
   "metadata": {},
   "outputs": [],
   "source": [
    "# ○表示系\n",
    "# 真の確率分布の表示（組み合わせ爆発に注意）\n",
    "# 取りうる状態を[0,0,...,0]から[1,1,..,1]まで辞書順に並べた際のインデックスを横軸（これ意味ある？）\n",
    "def disp_GT_per_index(T = 1):\n",
    "    ground_truth_prob = np.zeros(2**N).astype(np.float32)\n",
    "    ground_truth_energy = np.zeros(2**N).astype(np.float32)\n",
    "    for i, c in enumerate(comb_all):\n",
    "        ground_truth_energy[i] = energy(np.array(c))\n",
    "        ground_truth_prob[i] = np.exp(-ground_truth_energy[i] / T)\n",
    "    ground_truth_prob = ground_truth_prob / np.sum(ground_truth_prob)\n",
    "    plt.figure(figsize=(8,6))\n",
    "    plt.title('ground truth')\n",
    "    plt.xlabel('index')\n",
    "    plt.ylabel('probability')\n",
    "    plt.bar(np.arange(2**N), ground_truth_prob)\n",
    "    plt.show()"
   ]
  },
  {
   "cell_type": "code",
   "execution_count": 298,
   "metadata": {},
   "outputs": [],
   "source": [
    "# ○表示系\n",
    "# サンプリング結果から導き出した確率分布の表示（組み合わせ爆発に注意）\n",
    "# 取りうる状態を[0,0,...,0]から[1,1,..,1]まで順に並べた際のインデックスを横軸（これ意味ある？）\n",
    "def disp_result_per_index(answer, num, method):\n",
    "    prob = np.zeros(2**N).astype(np.float32)\n",
    "    for a, n in zip(answer, num):\n",
    "        prob[comb_all_to_index[tuple(a)]] += n\n",
    "    prob = prob / np.sum(prob)\n",
    "    plt.figure(figsize=(8,6))\n",
    "    plt.title('sampling result' + ' by ' + method)\n",
    "    plt.xlabel('index')\n",
    "    plt.ylabel('probability')\n",
    "    plt.bar(np.arange(2**N), prob)\n",
    "    plt.show()"
   ]
  },
  {
   "cell_type": "code",
   "execution_count": 299,
   "metadata": {},
   "outputs": [],
   "source": [
    "# ○表示系\n",
    "# 真の確率分布との間のKLダイバージェンスを計算（組合せ爆発に注意）\n",
    "# インデックスを対応させつつanswerにサンプル結果の変数の列、numにその解の登場回数を入れること（MCMCの結果の場合はnp.ones(len(data))）\n",
    "def KL_divergence(answer, num, T = 1):\n",
    "    ground_truth_prob = np.zeros(2**N).astype(np.float32)\n",
    "    sampled_prob = np.zeros(2**N).astype(np.float32)\n",
    "    for i, c in enumerate(comb_all):\n",
    "        ground_truth_prob[i] = np.exp(-energy(np.array(c)) / T)\n",
    "    for a, n in zip(answer, num):\n",
    "        sampled_prob[comb_all_to_index[tuple(a)]] += n\n",
    "    ground_truth_prob = ground_truth_prob / np.sum(ground_truth_prob)\n",
    "    sampled_prob = sampled_prob / np.sum(sampled_prob)\n",
    "    KL_div = 0\n",
    "    for i in range(2**N):\n",
    "        if sampled_prob[i] != 0:\n",
    "            KL_div += sampled_prob[i] * np.log(sampled_prob[i] / ground_truth_prob[i])\n",
    "    return KL_div"
   ]
  },
  {
   "cell_type": "code",
   "execution_count": 300,
   "metadata": {},
   "outputs": [],
   "source": [
    "# MCMC\n",
    "# メトロポリス法で１スピンずつ更新する\n",
    "def onespinflip_metropolis(spin, i, T = 1):\n",
    "    b_E = energy(spin)\n",
    "    spin[i] = -spin[i]\n",
    "    a_E = energy(spin)\n",
    "    update_prob = min(1, np.exp((b_E - a_E) / T)) # 更新前後の状態の確率の比を取る(カノニカル分布でマイナスがかかるので符号反転)\n",
    "    p = np.random.uniform(0,1)\n",
    "    if p < update_prob:\n",
    "        pass\n",
    "    else:\n",
    "        spin[i] = -spin[i]\n",
    "    return spin"
   ]
  },
  {
   "cell_type": "code",
   "execution_count": 301,
   "metadata": {},
   "outputs": [],
   "source": [
    "# MCMC\n",
    "# 熱浴法で１スピンずつ更新する\n",
    "def onespinflip_gibbs(spin, i, T = 1):\n",
    "    link_energy = coeffh[i]\n",
    "    for l in link[i]:\n",
    "        link_energy += coeffJ[min(i,l)][max(i,l)] * spin[l]\n",
    "    update_prob = (1 + np.tanh(link_energy)) / 2\n",
    "    p = np.random.uniform(0,1)\n",
    "    if p < update_prob:\n",
    "        spin[i] = 1\n",
    "    else:\n",
    "        spin[i] = -1\n",
    "    return spin"
   ]
  },
  {
   "cell_type": "code",
   "execution_count": 302,
   "metadata": {},
   "outputs": [],
   "source": [
    "# MCMC\n",
    "# サンプリングを実行 サンプラーと取得するサンプル数、サンプル間隔、初期緩和時間を指定\n",
    "def sampling_MCMC(sampler, N_sampling, interval, relax = 0, T = 1):\n",
    "    start = time.time()\n",
    "    spin = init_spin()\n",
    "    samples = [0 for _ in range(N_sampling)]\n",
    "    \n",
    "    for i in range(relax):\n",
    "        for j in range(N):\n",
    "            spin = sampler(spin, j, T)\n",
    "            \n",
    "    for i in range(N_sampling):\n",
    "        for j in range(interval):\n",
    "            for k in range(N):\n",
    "                spin = sampler(spin, k, T)\n",
    "        samples[i] = np.array(spin)\n",
    "    print 'elasped_time: ', time.time() - start, '[s]'\n",
    "    return samples"
   ]
  },
  {
   "cell_type": "code",
   "execution_count": 303,
   "metadata": {},
   "outputs": [],
   "source": [
    "# D-waveへ送信するための準備\n",
    "J = {}\n",
    "S = {}\n",
    "for i in range(N):\n",
    "    for j in range(i+1, N):\n",
    "        if coeffJ[i][j] != 0:\n",
    "            J[(i, j)] = -coeffJ[i][j].astype(np.float64)\n",
    "            S[(i, j)] = 1\n",
    "h = list(-coeffh.astype(np.float32))"
   ]
  },
  {
   "cell_type": "code",
   "execution_count": 304,
   "metadata": {},
   "outputs": [
    {
     "name": "stdout",
     "output_type": "stream",
     "text": [
      "['DW_2000Q_VFYC_2', 'DW_2000Q_2', 'c4-sw_optimize', 'c4-sw_sample']\n",
      "component 0, try 0:\n",
      "max overfill = 1, num max overfills = 17\n",
      "max overfill = 1, num max overfills = 17\n",
      "Embedding found. Minimizing chains...\n",
      "max chain size = 5, num max chains = 1, qubits used = 17\n",
      "max chain size = 4, num max chains = 1, qubits used = 15\n",
      "max chain size = 3, num max chains = 2, qubits used = 14\n",
      "max chain size = 3, num max chains = 2, qubits used = 14\n"
     ]
    }
   ],
   "source": [
    "# 問題をキメラグラフに埋め込み\n",
    "# D-waveに接続\n",
    "connection = RemoteConnection(url, token)\n",
    "print connection.solver_names()\n",
    "solver_name = 'DW_2000Q_2'\n",
    "solver = connection.get_solver(solver_name)\n",
    "\n",
    "A = get_hardware_adjacency(solver)\n",
    "embeddings = find_embedding(S, A, verbose = 1) "
   ]
  },
  {
   "cell_type": "code",
   "execution_count": 305,
   "metadata": {},
   "outputs": [],
   "source": [
    "# 実際に問題を送信する num_readsでサンプル数（実行回数）を指定\n",
    "(h0, j0, jc, new_emb) = embed_problem(h, J, embeddings, A)\n",
    "emb_j = j0.copy()\n",
    "emb_j.update(jc)\n",
    "answer = solve_ising(solver, h0, emb_j, num_reads = 5000)"
   ]
  },
  {
   "cell_type": "code",
   "execution_count": 306,
   "metadata": {},
   "outputs": [],
   "source": [
    "# 答えをデコード\n",
    "decode_answer = unembed_answer(answer['solutions'], new_emb, 'minimize_energy', h, J)\n",
    "num_answer = answer['num_occurrences']"
   ]
  },
  {
   "cell_type": "code",
   "execution_count": 307,
   "metadata": {},
   "outputs": [
    {
     "name": "stdout",
     "output_type": "stream",
     "text": [
      "elasped_time:  52.2829999924 [s]\n"
     ]
    }
   ],
   "source": [
    "data = sampling_MCMC(sampler = onespinflip_gibbs, N_sampling = 5000, interval = 200, relax = 1000)"
   ]
  },
  {
   "cell_type": "code",
   "execution_count": 308,
   "metadata": {
    "scrolled": true
   },
   "outputs": [
    {
     "data": {
      "image/png": "[encoded data removed]",
      "text/plain": [
       "<matplotlib.figure.Figure at 0x95bf198>"
      ]
     },
     "metadata": {},
     "output_type": "display_data"
    },
    {
     "data": {
      "image/png": "[encoded data removed]",
      "text/plain": [
       "<matplotlib.figure.Figure at 0x95bfb00>"
      ]
     },
     "metadata": {},
     "output_type": "display_data"
    },
    {
     "data": {
      "image/png": "[encoded data removed]",
      "text/plain": [
       "<matplotlib.figure.Figure at 0x37ff630>"
      ]
     },
     "metadata": {},
     "output_type": "display_data"
    },
    {
     "name": "stdout",
     "output_type": "stream",
     "text": [
      "KL divergence by gibbs sampler : 0.11212002989486791\n",
      "KL divergence by D-wave :  0.005650240927934647\n"
     ]
    }
   ],
   "source": [
    "disp_GT_per_index()\n",
    "disp_result_per_index(data, np.ones(len(data)), 'gibbs sampler')\n",
    "disp_result_per_index(decode_answer, num_answer, 'D-wave')\n",
    "print 'KL divergence by gibbs sampler :', KL_divergence(data, np.ones(len(data)))\n",
    "print 'KL divergence by D-wave : ', KL_divergence(decode_answer, num_answer)"
   ]
  },
  {
   "cell_type": "code",
   "execution_count": null,
   "metadata": {},
   "outputs": [],
   "source": []
  },
  {
   "cell_type": "code",
   "execution_count": null,
   "metadata": {},
   "outputs": [],
   "source": []
  }
 ],
 "metadata": {
  "kernelspec": {
   "display_name": "Python 2",
   "language": "python",
   "name": "python2"
  },
  "language_info": {
   "codemirror_mode": {
    "name": "ipython",
    "version": 2
   },
   "file_extension": ".py",
   "mimetype": "text/x-python",
   "name": "python",
   "nbconvert_exporter": "python",
   "pygments_lexer": "ipython2",
   "version": "2.7.14"
  }
 },
 "nbformat": 4,
 "nbformat_minor": 2
}
